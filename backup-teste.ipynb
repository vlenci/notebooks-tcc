{
 "cells": [
  {
   "cell_type": "code",
   "execution_count": null,
   "id": "5b92e3a3",
   "metadata": {},
   "outputs": [],
   "source": []
  },
  {
   "cell_type": "code",
   "execution_count": null,
   "id": "da993ec1",
   "metadata": {},
   "outputs": [],
   "source": [
    "conda activate lenci_enviroment\n"
   ]
  },
  {
   "cell_type": "code",
   "execution_count": null,
   "id": "a9300369",
   "metadata": {},
   "outputs": [],
   "source": [
    "import sys\n",
    "print(sys.executable)\n"
   ]
  },
  {
   "cell_type": "code",
   "execution_count": null,
   "id": "be75a15c",
   "metadata": {},
   "outputs": [],
   "source": [
    "import sys\n",
    "import surprise\n",
    "\n",
    "from recommenders.utils.timer import Timer\n",
    "from recommenders.datasets import movielens\n",
    "from recommenders.datasets.python_splitters import python_random_split\n",
    "from recommenders.evaluation.python_evaluation import (\n",
    "    rmse,\n",
    "    mae,\n",
    "    rsquared,\n",
    "    exp_var,\n",
    "    map_at_k,\n",
    "    ndcg_at_k,\n",
    "    precision_at_k,\n",
    "    recall_at_k,\n",
    "    get_top_k_items,\n",
    ")\n",
    "from recommenders.models.surprise.surprise_utils import (\n",
    "    predict,\n",
    "    compute_ranking_predictions,\n",
    ")\n",
    "from recommenders.utils.notebook_utils import store_metadata\n",
    "\n",
    "\n",
    "print(f\"System version: {sys.version}\")\n",
    "print(f\"Surprise version: {surprise.__version__}\")"
   ]
  },
  {
   "cell_type": "code",
   "execution_count": null,
   "id": "be0f73c4",
   "metadata": {},
   "outputs": [
    {
     "name": "stdout",
     "output_type": "stream",
     "text": [
      "   userId  movieId  rating\n",
      "0       1       17     4.0\n",
      "1       1       25     1.0\n",
      "2       1       29     2.0\n",
      "3       1       30     5.0\n",
      "4       1       32     5.0\n"
     ]
    }
   ],
   "source": [
    "import pandas as pd\n",
    "from surprise import Dataset, Reader\n",
    "\n",
    "# Caminho do arquivo local do MovieLens 100k\n",
    "file_path = \"C:\\\\Users\\\\vlenc\\\\OneDrive\\\\Documentos\\\\ml-32m\\\\ratings.csv\"  # ajuste para onde você extraiu o dataset\n",
    "\n",
    "# Ler o arquivo com pandas\n",
    "df = pd.read_csv(file_path, sep=\",\")\n",
    "\n",
    "# Selecionar apenas as colunas necessárias\n",
    "df = df[[\"userId\", \"movieId\", \"rating\"]]\n",
    "\n",
    "# Visualizar as primeiras linhas\n",
    "print(df.head())\n",
    "\n",
    "# Criar Dataset do Surprise\n",
    "reader = Reader(rating_scale=(1, 5))\n",
    "data = Dataset.load_from_df(df, reader)\n"
   ]
  },
  {
   "cell_type": "code",
   "execution_count": null,
   "id": "476067e1",
   "metadata": {},
   "outputs": [
    {
     "name": "stdout",
     "output_type": "stream",
     "text": [
      "Processing epoch 0\n",
      "Processing epoch 1\n",
      "Processing epoch 2\n",
      "Processing epoch 3\n",
      "Processing epoch 4\n",
      "Processing epoch 5\n",
      "Processing epoch 6\n",
      "Processing epoch 7\n",
      "Processing epoch 8\n",
      "Processing epoch 9\n",
      "Processing epoch 10\n",
      "Processing epoch 11\n",
      "Processing epoch 12\n",
      "Processing epoch 13\n",
      "Processing epoch 14\n",
      "Processing epoch 15\n",
      "Processing epoch 16\n",
      "Processing epoch 17\n",
      "Processing epoch 18\n",
      "Processing epoch 19\n",
      "Processing epoch 20\n",
      "Processing epoch 21\n",
      "Processing epoch 22\n",
      "Processing epoch 23\n",
      "Processing epoch 24\n",
      "Processing epoch 25\n",
      "Processing epoch 26\n",
      "Processing epoch 27\n",
      "Processing epoch 28\n",
      "Processing epoch 29\n"
     ]
    }
   ],
   "source": [
    "from surprise.model_selection import train_test_split\n",
    "from surprise import SVD\n",
    "from surprise import accuracy\n",
    "\n",
    "# 1️⃣ Dividir os dados em treino e teste (75% treino, 25% teste)\n",
    "trainset, testset = train_test_split(data, test_size=0.25, random_state=42)\n",
    "\n",
    "# 2️⃣ Criar o modelo SVD\n",
    "svd = SVD(\n",
    "    n_factors=200,   # dimensão dos vetores latentes\n",
    "    n_epochs=30,     # número de iterações do SGD\n",
    "    random_state=42,\n",
    "    verbose=True     # imprime progresso do treino\n",
    ")\n",
    "\n",
    "# 3️⃣ Treinar o modelo\n",
    "svd.fit(trainset)\n",
    "\n",
    "# 4️⃣ Fazer previsões no conjunto de teste\n",
    "predictions = svd.test(testset)\n",
    "\n",
    "# 5️⃣ Avaliar o modelo usando RMSE e MAE\n",
    "rmse_val = accuracy.rmse(predictions)\n",
    "mae_val = accuracy.mae(predictions)\n",
    "\n",
    "print(f\"RMSE: {rmse_val}\")\n",
    "print(f\"MAE: {mae_val}\")\n"
   ]
  },
  {
   "cell_type": "code",
   "execution_count": null,
   "id": "278f50f9",
   "metadata": {},
   "outputs": [],
   "source": [
    "from collections import defaultdict\n",
    "from surprise.model_selection import train_test_split\n",
    "\n",
    "# Função auxiliar para pegar os Top-K itens recomendados\n",
    "def get_top_n(predictions, n=10):\n",
    "    # Dicionário para armazenar as recomendações por usuário\n",
    "    user_recommendations = defaultdict(list)\n",
    "\n",
    "    # Organiza as previsões por usuário\n",
    "    for user_id, movie_id, true_rating, predicted_rating, _ in predictions:\n",
    "        user_recommendations[user_id].append((movie_id, predicted_rating))\n",
    "\n",
    "    # Ordena as predições por nota estimada e pega o Top-N\n",
    "    for user_id, movie_ratings in user_recommendations.items():\n",
    "        movie_ratings.sort(key=lambda x: x[1], reverse=True)\n",
    "        user_recommendations[user_id] = movie_ratings[:n]\n",
    "\n",
    "    return user_recommendations\n",
    "\n",
    "\n",
    "# ⚡ Fazer previsões em todos os pares usuário-filme que não estavam no treino\n",
    "trainset, testset = train_test_split(data, test_size=0.25, random_state=42)\n",
    "svd.fit(trainset)\n",
    "\n",
    "# Gera previsões para todos os pares usuário-filme não vistos no treino\n",
    "all_predictions = svd.test(trainset.build_anti_testset())\n",
    "\n",
    "# Pega as top-10 recomendações para cada usuário\n",
    "top_recommendations = get_top_n(all_predictions, n=10)\n",
    "\n",
    "# Exibir recomendações para os 5 primeiros usuários\n",
    "for user_id, recommended_movies in list(top_recommendations.items())[:5]:\n",
    "    print(f\"\\nUsuário {user_id} - Recomendações:\")\n",
    "    for movie_id, predicted_rating in recommended_movies:\n",
    "        print(f\"  Filme {movie_id} com nota estimada {predicted_rating:.2f}\")\n"
   ]
  }
 ],
 "metadata": {
  "language_info": {
   "name": "python"
  }
 },
 "nbformat": 4,
 "nbformat_minor": 5
}
